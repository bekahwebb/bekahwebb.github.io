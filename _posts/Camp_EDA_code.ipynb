{
 "cells": [
  {
   "cell_type": "code",
   "execution_count": null,
   "metadata": {},
   "outputs": [],
   "source": [
    "import numpy as np\n",
    "import matplotlib.pyplot as plt\n",
    "camp_data = 10**np.random.normal(size=500)\n",
    "_, bins = np.histogram(np.log10(camp_data + 1), bins='auto')\n",
    "plt.hist(camp_data, bins=10**bins);\n",
    "plt.gca().set_xscale(\"log\")\n",
    "plt.gca().set_yscale(\"log\")"
   ]
  },
  {
   "cell_type": "code",
   "execution_count": null,
   "metadata": {},
   "outputs": [],
   "source": [
    "# Code to check for correlation\n",
    "camp_data.corr()"
   ]
  },
  {
   "cell_type": "code",
   "execution_count": null,
   "metadata": {},
   "outputs": [],
   "source": [
    "# Dictionary to store lists of zip codes for each region\n",
    "region_zip_codes = {}\n",
    "# Loop through each unique two-digit prefix in the Zip column\n",
    "for prefix in camp_data['Zip'].apply(lambda x: str(x)[:2]).unique():\n",
    "    # Filter the dataframe for the current region\n",
    "    region_data = camp_data[camp_data['Zip'].apply(lambda x: str(x).startswith(prefix))]\n",
    "    # Extract the zip codes for the current region\n",
    "    zip_codes = region_data['Zip'].tolist()\n",
    "    # Store the zip codes in the dictionary\n",
    "    region_zip_codes[\"Region_\" + prefix] = zip_codes"
   ]
  },
  {
   "cell_type": "code",
   "execution_count": null,
   "metadata": {},
   "outputs": [],
   "source": [
    "# Create a scatterplot\n",
    "import seaborn as sns\n",
    "plt.figure(figsize=(12, 8))\n",
    "sns.scatterplot(data=camp_data, x='Region', y='Cost', palette='viridis')\n",
    "plt.title('Scatterplot of Cost by Region')\n",
    "plt.xlabel('Region')\n",
    "plt.ylabel('Cost')\n",
    "plt.show()"
   ]
  },
  {
   "cell_type": "code",
   "execution_count": null,
   "metadata": {},
   "outputs": [],
   "source": [
    "import seaborn as sns\n",
    "import matplotlib.pyplot as plt\n",
    "# Replace non-numeric values with NaN\n",
    "camp_data['Cost'] = pd.to_numeric(camp_data['Cost'], errors='coerce')\n",
    "# Fill NaN values with the mean cost\n",
    "mean_cost = camp_data['Cost'].mean()\n",
    "camp_data['Cost'].fillna(mean_cost, inplace=True)\n",
    "# Order the regions by mean cost from highest to lowest\n",
    "order = camp_data.groupby('Region')['Cost'].mean().sort_values(ascending=False).index\n",
    "# Create a horizontal bar plot of mean Cost by Region\n",
    "plt.figure(figsize=(12, 8))\n",
    "sns.barplot(data=camp_data, y='Region', x='Cost', ci=None, orient='h', order=order)\n",
    "plt.title('Mean Cost by Region (Highest to Lowest)')\n",
    "plt.xlabel('Mean Cost')\n",
    "plt.ylabel('Region')\n",
    "plt.show()"
   ]
  },
  {
   "cell_type": "code",
   "execution_count": null,
   "metadata": {},
   "outputs": [],
   "source": [
    "import pandas as pd\n",
    "import seaborn as sns\n",
    "import matplotlib.pyplot as plt\n",
    "# List of state codes for Utah and its neighboring Regions\n",
    "utah_and_neighbors = ['84', '83', '82', '80', '87', '85', '88']\n",
    "# Filter data for regions in Utah and its neighboring states\n",
    "utah_and_neighbors_data = camp_data[camp_data['Region'].isin(utah_and_neighbors)]\n",
    "# Set up a box plot\n",
    "plt.figure(figsize=(12, 8))\n",
    "sns.boxplot(x='Region', y='Cost', data=utah_and_neighbors_data)\n",
    "plt.title('Box Plot of Cost by Region in Utah and Bordering States')\n",
    "plt.xlabel('Region')\n",
    "plt.ylabel('Cost')\n",
    "plt.show()"
   ]
  },
  {
   "cell_type": "code",
   "execution_count": null,
   "metadata": {},
   "outputs": [],
   "source": [
    "from wordcloud import WordCloud\n",
    "park_code_text = ' '.join(camp_data['Park Code'])\n",
    "wordcloud = WordCloud(width=800, height=400, background_color='white').generate(park_code_text)\n",
    "plt.figure(figsize=(10, 5))\n",
    "plt.imshow(wordcloud, interpolation='bilinear')\n",
    "plt.axis('off')\n",
    "plt.show()"
   ]
  },
  {
   "cell_type": "code",
   "execution_count": null,
   "metadata": {},
   "outputs": [],
   "source": [
    "import matplotlib.pyplot as plt\n",
    "top_park_codes = camp_data['Park Code'].value_counts().nlargest(10)  # Top 10 Park Codes\n",
    "plt.figure(figsize=(12, 6))\n",
    "top_park_codes.plot(kind='bar')\n",
    "plt.title('Top Park Codes by Frequency')\n",
    "plt.xlabel('Park Code')\n",
    "plt.ylabel('Frequency')\n",
    "plt.show()"
   ]
  }
 ],
 "metadata": {
  "language_info": {
   "name": "python"
  }
 },
 "nbformat": 4,
 "nbformat_minor": 2
}
